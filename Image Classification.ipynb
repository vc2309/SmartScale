{
 "cells": [
  {
   "cell_type": "code",
   "execution_count": 1,
   "metadata": {},
   "outputs": [
    {
     "name": "stderr",
     "output_type": "stream",
     "text": [
      "Using Theano backend.\n"
     ]
    }
   ],
   "source": [
    "from keras.models import Sequential\n",
    "from keras.layers import Convolution2D, MaxPooling2D, Flatten, Dense, BatchNormalization, Dropout,Activation\n",
    "from keras import backend as K\n",
    "from keras.preprocessing.image import ImageDataGenerator\n",
    "from IPython import display\n",
    "from PIL import Image\n",
    "import os\n",
    "import numpy as np\n",
    "from keras.preprocessing import image"
   ]
  },
  {
   "cell_type": "code",
   "execution_count": 34,
   "metadata": {},
   "outputs": [],
   "source": [
    "def createCNN(classes,cnnOutput=(32,3,3), poolSize=(2,2)):\n",
    "    \"\"\"\n",
    "    :classes: (int) number of categories\n",
    "    \"\"\"\n",
    "    classifier = Sequential()\n",
    "    classifier.add(Convolution2D(cnnOutput[0],cnnOutput[1],cnnOutput[2], input_shape=(64,64,3), activation='relu'))\n",
    "    classifier.add(MaxPooling2D(pool_size=poolSize))\n",
    "    classifier.add(Flatten())\n",
    "    classifier.add(Dense(output_dim=classes, activation='relu'))\n",
    "    classifier.add(Dense(output_dim=classes, activation='sigmoid'))\n",
    "    classifier.compile(optimizer='adam', loss='categorical_crossentropy', metrics = ['accuracy'])\n",
    "    \n",
    "    return classifier"
   ]
  },
  {
   "cell_type": "code",
   "execution_count": 11,
   "metadata": {},
   "outputs": [],
   "source": [
    "def sperateData():\n",
    "    import os\n",
    "    # for folder in os.listdir('images/train'):\n",
    "    #     os.mkdir('images/test/'+folder)\n",
    "    import shutil\n",
    "    import numpy as np\n",
    "    for folder in os.listdir('images/train'):\n",
    "        for image in os.listdir('images/train/'+folder):\n",
    "            if np.random.rand(1)<0.2:\n",
    "                shutil.move('images/train/'+folder+'/'+image, 'images/test/'+folder+'/'+image)\n",
    "for folder in os.listdir('images/train'):\n",
    "    "
   ]
  },
  {
   "cell_type": "code",
   "execution_count": 15,
   "metadata": {},
   "outputs": [],
   "source": [
    "def getDataset(classes,train_source,test_source):\n",
    "    trainGen = ImageDataGenerator(\n",
    "    rescale = 1.0/255,\n",
    "    shear_range = 0.1,\n",
    "    zoom_range = 0.2,\n",
    "    horizontal_flip = True,\n",
    "    vertical_flip=True\n",
    "    )\n",
    "    \n",
    "    testGen = ImageDataGenerator(rescale = 1.0/255)\n",
    "    \n",
    "    trainSet = trainGen.flow_from_directory(train_source, target_size=(96,96), batch_size=32, class_mode='categorical')\n",
    "    testSet = testGen.flow_from_directory(test_source, target_size=(96,96), batch_size=32, class_mode='categorical')\n",
    "    return trainSet, trainSet"
   ]
  },
  {
   "cell_type": "code",
   "execution_count": 18,
   "metadata": {},
   "outputs": [],
   "source": [
    "def makeModel(num_classes):\n",
    "    classifier = Sequential()\n",
    "    # First section\n",
    "    classifier.add(Convolution2D(filters=32, kernel_size=(3,3), padding=\"same\", input_shape=(96,96,3), activation=\"relu\" ))\n",
    "    classifier.add(BatchNormalization(axis=1))\n",
    "    classifier.add(MaxPooling2D(pool_size=(3,3)))\n",
    "    classifier.add(Dropout(0.25))\n",
    "    \n",
    "    #Second section\n",
    "    classifier.add(Convolution2D(filters=64, kernel_size=(3,3),padding=\"same\", activation=\"relu\" ))\n",
    "    classifier.add(BatchNormalization(axis=1))\n",
    "    classifier.add(Convolution2D(filters=64, kernel_size=(3,3),padding=\"same\", activation=\"relu\" ))\n",
    "    classifier.add(BatchNormalization(axis=1))\n",
    "    classifier.add(MaxPooling2D(pool_size=(2,2)))\n",
    "    classifier.add(Dropout(0.25))\n",
    "    \n",
    "    #Third section\n",
    "    classifier.add(Convolution2D(filters=128, kernel_size=(3,3),padding=\"same\", activation=\"relu\" ))\n",
    "    classifier.add(BatchNormalization(axis=1))\n",
    "    classifier.add(Convolution2D(filters=128, kernel_size=(3,3),padding=\"same\", activation=\"relu\" ))\n",
    "    classifier.add(BatchNormalization(axis=1))\n",
    "    classifier.add(MaxPooling2D(pool_size=(2,2)))\n",
    "    classifier.add(Dropout(0.25))\n",
    "    \n",
    "    #Final Fully connected --> Relu layer\n",
    "    classifier.add(Flatten())\n",
    "    classifier.add(Dense(units=1024, activation=\"relu\"))\n",
    "    classifier.add(BatchNormalization())\n",
    "    classifier.add(Dropout(0.5))\n",
    "    \n",
    "    classifier.add(Dense(units=num_classes, activation=\"sigmoid\"))\n",
    "    classifier.compile(optimizer='adam', loss='categorical_crossentropy', metrics = ['accuracy'])\n",
    "    return classifier\n",
    "    "
   ]
  },
  {
   "cell_type": "code",
   "execution_count": 19,
   "metadata": {},
   "outputs": [
    {
     "name": "stdout",
     "output_type": "stream",
     "text": [
      "Found 7191 images belonging to 9 classes.\n",
      "Found 1809 images belonging to 9 classes.\n"
     ]
    }
   ],
   "source": [
    "train_dir = 'images/train/'\n",
    "test_dir = 'images/test/'\n",
    "num_classes = len(os.listdir('images/train'))\n",
    "classifier = makeModel(num_classes)\n",
    "trainSet, testSet = getDataset(classes=num_classes, train_source=train_dir, test_source=test_dir)"
   ]
  },
  {
   "cell_type": "code",
   "execution_count": null,
   "metadata": {},
   "outputs": [
    {
     "name": "stdout",
     "output_type": "stream",
     "text": [
      "Epoch 1/10\n"
     ]
    }
   ],
   "source": [
    "classifier.fit_generator(trainSet,steps_per_epoch=8000,epochs=10, validation_data=testSet, validation_steps=800)"
   ]
  },
  {
   "cell_type": "code",
   "execution_count": null,
   "metadata": {},
   "outputs": [],
   "source": [
    "classifier.save('models/my_model.h5')"
   ]
  },
  {
   "cell_type": "code",
   "execution_count": 4,
   "metadata": {},
   "outputs": [],
   "source": [
    "from keras.models import load_model\n",
    "classifier = load_model('models/my_model.h5')"
   ]
  },
  {
   "cell_type": "code",
   "execution_count": 19,
   "metadata": {},
   "outputs": [],
   "source": [
    "test_image = image.load_img('images/test/french_fries/1132539.jpg',target_size=(64,64))\n",
    "test_image = image.img_to_array(test_image)\n",
    "test_image = np.expand_dims(test_image,axis=0)"
   ]
  },
  {
   "cell_type": "code",
   "execution_count": 27,
   "metadata": {},
   "outputs": [
    {
     "name": "stderr",
     "output_type": "stream",
     "text": [
      "/home/ubuntu/miniconda3/lib/python3.7/site-packages/ipykernel_launcher.py:6: UserWarning: Update your `Conv2D` call to the Keras 2 API: `Conv2D(32, (3, 3), input_shape=(64, 64, 3..., activation=\"relu\")`\n",
      "  \n",
      "/home/ubuntu/miniconda3/lib/python3.7/site-packages/ipykernel_launcher.py:9: UserWarning: Update your `Dense` call to the Keras 2 API: `Dense(activation=\"relu\", units=9)`\n",
      "  if __name__ == '__main__':\n",
      "/home/ubuntu/miniconda3/lib/python3.7/site-packages/ipykernel_launcher.py:10: UserWarning: Update your `Dense` call to the Keras 2 API: `Dense(activation=\"sigmoid\", units=9)`\n",
      "  # Remove the CWD from sys.path while we load stuff.\n"
     ]
    }
   ],
   "source": [
    "classifier = createCNN(num_classes)"
   ]
  },
  {
   "cell_type": "code",
   "execution_count": 29,
   "metadata": {},
   "outputs": [],
   "source": [
    "res=(classifier.predict(test_image))"
   ]
  },
  {
   "cell_type": "code",
   "execution_count": 30,
   "metadata": {},
   "outputs": [
    {
     "data": {
      "text/plain": [
       "4"
      ]
     },
     "execution_count": 30,
     "metadata": {},
     "output_type": "execute_result"
    }
   ],
   "source": [
    "np.argmax(res)"
   ]
  },
  {
   "cell_type": "code",
   "execution_count": 31,
   "metadata": {},
   "outputs": [
    {
     "data": {
      "text/plain": [
       "array([[5.9401594e-12, 8.5529870e-01, 3.0599590e-04, 2.5342540e-06,\n",
       "        1.0000000e+00, 1.0000000e+00, 2.5837596e-11, 9.0986669e-01,\n",
       "        3.4521233e-10]], dtype=float32)"
      ]
     },
     "execution_count": 31,
     "metadata": {},
     "output_type": "execute_result"
    }
   ],
   "source": [
    "res"
   ]
  },
  {
   "cell_type": "code",
   "execution_count": 32,
   "metadata": {},
   "outputs": [
    {
     "data": {
      "text/plain": [
       "{'chicken_wings': 0,\n",
       " 'chocolate_cake': 1,\n",
       " 'dumplings': 2,\n",
       " 'french_fries': 3,\n",
       " 'fried_rice': 4,\n",
       " 'hamburger': 5,\n",
       " 'ice_cream': 6,\n",
       " 'pizza': 7,\n",
       " 'ramen': 8}"
      ]
     },
     "execution_count": 32,
     "metadata": {},
     "output_type": "execute_result"
    }
   ],
   "source": [
    "trainSet.class_indices"
   ]
  },
  {
   "cell_type": "code",
   "execution_count": 12,
   "metadata": {},
   "outputs": [],
   "source": [
    "c = makeModel(9)"
   ]
  },
  {
   "cell_type": "code",
   "execution_count": 13,
   "metadata": {},
   "outputs": [
    {
     "name": "stdout",
     "output_type": "stream",
     "text": [
      "[conv2d_6/kernel, conv2d_6/bias, batch_normalization_7/gamma, batch_normalization_7/beta, conv2d_7/kernel, conv2d_7/bias, batch_normalization_8/gamma, batch_normalization_8/beta, conv2d_8/kernel, conv2d_8/bias, batch_normalization_9/gamma, batch_normalization_9/beta, dense_3/kernel, dense_3/bias, batch_normalization_10/gamma, batch_normalization_10/beta, dense_4/kernel, dense_4/bias] 8494441\n"
     ]
    }
   ],
   "source": [
    "print(c.trainable_weights, (\n",
    "    np.sum([K.count_params(p) for p in set(c.trainable_weights)])))"
   ]
  },
  {
   "cell_type": "code",
   "execution_count": null,
   "metadata": {},
   "outputs": [],
   "source": []
  }
 ],
 "metadata": {
  "kernelspec": {
   "display_name": "Python 3",
   "language": "python",
   "name": "python3"
  },
  "language_info": {
   "codemirror_mode": {
    "name": "ipython",
    "version": 3
   },
   "file_extension": ".py",
   "mimetype": "text/x-python",
   "name": "python",
   "nbconvert_exporter": "python",
   "pygments_lexer": "ipython3",
   "version": "3.7.1"
  }
 },
 "nbformat": 4,
 "nbformat_minor": 2
}
