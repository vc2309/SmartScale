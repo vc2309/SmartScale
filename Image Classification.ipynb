{
 "cells": [
  {
   "cell_type": "code",
   "execution_count": 1,
   "metadata": {},
   "outputs": [
    {
     "name": "stderr",
     "output_type": "stream",
     "text": [
      "Using Theano backend.\n"
     ]
    }
   ],
   "source": [
    "from keras.models import Sequential\n",
    "from keras.layers import Convolution2D, MaxPooling2D, Flatten, Dense\n",
    "from keras.preprocessing.image import ImageDataGenerator"
   ]
  },
  {
   "cell_type": "code",
   "execution_count": 2,
   "metadata": {},
   "outputs": [],
   "source": [
    "def createCNN(classes,cnnOutput=(32,3,3), poolSize=(2,2)):\n",
    "    classifier = Sequential()\n",
    "    classifier.add(Convolutional2D(cnnOutput[0],cnnOutput[1],cnnOutput[2], input_shape(64,64,3), activation='relu'))\n",
    "    classifier.add(MaxPooling2D(pool_size=poolSize))\n",
    "    classifier.add(Flatten())\n",
    "    classifier.add(Dense(output_dim=classes, activation='relu'))\n",
    "    classifier.add(Dense(output_dim=1, activation='sigmoid'))\n",
    "    classifier.compile(optimizer='adam', loss='categorical_crossentropy', metrics = ['accuracy'])\n",
    "    \n",
    "    return classifier"
   ]
  },
  {
   "cell_type": "code",
   "execution_count": 11,
   "metadata": {},
   "outputs": [],
   "source": [
    "def sperateData():\n",
    "    import os\n",
    "    # for folder in os.listdir('images/train'):\n",
    "    #     os.mkdir('images/test/'+folder)\n",
    "    import shutil\n",
    "    import numpy as np\n",
    "    for folder in os.listdir('images/train'):\n",
    "        for image in os.listdir('images/train/'+folder):\n",
    "            if np.random.rand(1)<0.2:\n",
    "                shutil.move('images/train/'+folder+'/'+image, 'images/test/'+folder+'/'+image)\n",
    "for folder in os.listdir('images/train'):\n",
    "    "
   ]
  },
  {
   "cell_type": "code",
   "execution_count": null,
   "metadata": {},
   "outputs": [],
   "source": []
  },
  {
   "cell_type": "code",
   "execution_count": null,
   "metadata": {},
   "outputs": [],
   "source": [
    "def getDataset(classes,train_source,test_source,save_dir):\n",
    "    trainGen = ImageDataGenerator(\n",
    "    rescale = 1.0/255,\n",
    "    shear_range = 0.1,\n",
    "    zoom_range = 0.2,\n",
    "    horizontal_flip = True,\n",
    "    vertical_flip=True\n",
    "    )\n",
    "    \n",
    "    testGen = ImageDataGenerator(rescale = 1.0/255)\n",
    "    \n",
    "    trainSet = trainGen.flow_from_directory(train_source, target_size=(64,64), batch_size=32, class_mode='categorical',save_to_dir=save+'_gen')"
   ]
  }
 ],
 "metadata": {
  "kernelspec": {
   "display_name": "Python 3",
   "language": "python",
   "name": "python3"
  },
  "language_info": {
   "codemirror_mode": {
    "name": "ipython",
    "version": 3
   },
   "file_extension": ".py",
   "mimetype": "text/x-python",
   "name": "python",
   "nbconvert_exporter": "python",
   "pygments_lexer": "ipython3",
   "version": "3.7.1"
  }
 },
 "nbformat": 4,
 "nbformat_minor": 2
}
